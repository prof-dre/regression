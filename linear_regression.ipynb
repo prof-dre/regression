{
 "cells": [
  {
   "cell_type": "markdown",
   "id": "388b6c16",
   "metadata": {},
   "source": [
    "# A Very Simple Linear Regression Demo\n",
    "*Copyright 01/2022 by Andre M. Maier*"
   ]
  },
  {
   "cell_type": "code",
   "execution_count": 7,
   "id": "b8a6d65c-6a51-4920-a5ab-45f815a238d2",
   "metadata": {},
   "outputs": [
    {
     "data": {
      "image/png": "[encoded data removed]",
      "text/plain": [
       "<Figure size 432x288 with 1 Axes>"
      ]
     },
     "metadata": {
      "needs_background": "light"
     },
     "output_type": "display_data"
    }
   ],
   "source": [
    "# Defining the dataset\n",
    "x = [1,2,3,4,5,6,7,8,9,10,11,12,13,14,15,16]\n",
    "y = [1,3,2,4,5,7,6,9,10,11,10,13,14,12,16,16]\n",
    "\n",
    "# Visualization\n",
    "import matplotlib.pyplot as plt\n",
    "plt.xlabel('x')\n",
    "plt.ylabel('y')\n",
    "plt.scatter(x,y)\n",
    "plt.show()"
   ]
  },
  {
   "cell_type": "code",
   "execution_count": 8,
   "id": "8ebc1c15-5f45-4bca-8f36-5c12cac21ade",
   "metadata": {
    "scrolled": true
   },
   "outputs": [
    {
     "name": "stdout",
     "output_type": "stream",
     "text": [
      "x_bar =  8.5\n",
      "y_bar =  8.6875\n"
     ]
    }
   ],
   "source": [
    "# Calculating arithmetic means of x and y\n",
    "x_bar = 0\n",
    "num_values = len(x)\n",
    "for i in x:\n",
    "    x_bar += i\n",
    "x_bar /= num_values\n",
    "print(\"x_bar = \", x_bar)\n",
    "y_bar = 0\n",
    "for i in y:\n",
    "    y_bar += i\n",
    "y_bar /= num_values\n",
    "print(\"y_bar = \", y_bar)"
   ]
  },
  {
   "cell_type": "markdown",
   "id": "a7e284b7",
   "metadata": {},
   "source": [
    "### Regression Line\n",
    "#### Slope\n",
    "$\\beta_1 = \\frac{\\sum\\limits _{i=1}^n (x_i-\\bar{x})(y_i-\\bar{y})}{\\sum\\limits _{i=1}^n (x_i-\\bar{x})^2}$\n",
    "#### Y-Intercept\n",
    "$\\beta_0 = \\bar{y}-\\beta_1\\bar{x}$"
   ]
  },
  {
   "cell_type": "code",
   "execution_count": 9,
   "id": "30118dba-a9eb-4b2a-b34b-10e8e06ab956",
   "metadata": {},
   "outputs": [
    {
     "name": "stdout",
     "output_type": "stream",
     "text": [
      "1.0014705882352941\n"
     ]
    }
   ],
   "source": [
    "# Calculating slope\n",
    "n = len(x)\n",
    "numerator = denominator = 0\n",
    "for i in range(n):\n",
    "    numerator += (x[i]-x_bar)*(y[i]-y_bar)\n",
    "    denominator += (x[i] - x_bar)**2\n",
    "beta_1 = numerator / denominator\n",
    "print(beta_1)"
   ]
  },
  {
   "cell_type": "code",
   "execution_count": 10,
   "id": "9533ba48",
   "metadata": {},
   "outputs": [
    {
     "name": "stdout",
     "output_type": "stream",
     "text": [
      "0.1750000000000007\n"
     ]
    }
   ],
   "source": [
    "# Calulating y-intercept\n",
    "beta_0 = y_bar - beta_1 * x_bar\n",
    "print(beta_0)\n"
   ]
  },
  {
   "cell_type": "code",
   "execution_count": 11,
   "id": "8dddad65",
   "metadata": {
    "scrolled": true
   },
   "outputs": [
    {
     "data": {
      "image/png": "[encoded data removed]",
      "text/plain": [
       "<Figure size 432x288 with 1 Axes>"
      ]
     },
     "metadata": {
      "needs_background": "light"
     },
     "output_type": "display_data"
    }
   ],
   "source": [
    "# Visualizing both data and regression line\n",
    "plt.xlabel('x')\n",
    "plt.ylabel('y')\n",
    "plt.scatter(x,y)\n",
    "import numpy as np\n",
    "x_regline = np.linspace(0,len(x),100)\n",
    "y_regline = beta_0 + beta_1 * x_regline\n",
    "plt.plot(x_regline, y_regline, color='r')\n",
    "plt.show()"
   ]
  },
  {
   "cell_type": "code",
   "execution_count": 12,
   "id": "c977035d",
   "metadata": {
    "scrolled": true
   },
   "outputs": [
    {
     "name": "stdout",
     "output_type": "stream",
     "text": [
      "0.959383113189007\n"
     ]
    }
   ],
   "source": [
    "# Calculating R²\n",
    "r_squared = sum([((beta_1 * x_element + beta_0)-y_bar)**2 for x_element in x ]) / sum(\n",
    "    [(y_element-y_bar)**2 for y_element in y ])\n",
    "print(r_squared)"
   ]
  },
  {
   "cell_type": "code",
   "execution_count": null,
   "id": "6e534726-aba8-4c8b-b8c4-5ca8eb76e09b",
   "metadata": {},
   "outputs": [],
   "source": []
  }
 ],
 "metadata": {
  "kernelspec": {
   "display_name": "Python 3",
   "language": "python",
   "name": "python3"
  },
  "language_info": {
   "codemirror_mode": {
    "name": "ipython",
    "version": 3
   },
   "file_extension": ".py",
   "mimetype": "text/x-python",
   "name": "python",
   "nbconvert_exporter": "python",
   "pygments_lexer": "ipython3",
   "version": "3.8.8"
  }
 },
 "nbformat": 4,
 "nbformat_minor": 5
}
